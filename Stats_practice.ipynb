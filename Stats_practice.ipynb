{
 "cells": [
  {
   "cell_type": "code",
   "execution_count": 1,
   "id": "aaad6d20-2161-4526-a5f3-910ec83ee380",
   "metadata": {},
   "outputs": [],
   "source": [
    "import pandas as pd\n",
    "import numpy as np\n",
    "import matplotlib.pyplot as plt\n",
    "import seaborn as sns\n",
    "import statistics as stats\n",
    "import scipy as sts"
   ]
  },
  {
   "cell_type": "code",
   "execution_count": 3,
   "id": "c13faace-b977-44b6-b531-ce3bfc28aa04",
   "metadata": {},
   "outputs": [],
   "source": [
    "# T-shirts sales per day by X and Y company . \n",
    "\n",
    "X=[50,123,87,150,68,49,75]\n",
    "Y=[120,160,90,145,105,85,100]"
   ]
  },
  {
   "cell_type": "markdown",
   "id": "6d7f276d-3638-4d42-a027-3dffc609dd04",
   "metadata": {},
   "source": [
    "# Coefficient of Variation"
   ]
  },
  {
   "cell_type": "code",
   "execution_count": 17,
   "id": "2eccc072-0f93-4291-8205-af5d0042f6e9",
   "metadata": {},
   "outputs": [
    {
     "name": "stdout",
     "output_type": "stream",
     "text": [
      "Coefficient of Variation for X is : 0.4070004739166393\n",
      "\n",
      "\n",
      "Coefficient of Variation for X is : 0.227705624594079\n",
      "\n",
      "\n",
      "Y Company had more Consistence with less variation and Stability Distribution \n"
     ]
    }
   ],
   "source": [
    "# **finding consistence**\n",
    "# measure of central tendency and measure of dispersion\n",
    "\n",
    "# X company \n",
    "mean_x=np.mean(X)\n",
    "var_x=np.var(X)\n",
    "\n",
    "sd_x=np.std(X) # or var_x**0.5\n",
    "\n",
    "# Y company\n",
    "mean_y=np.mean(Y)\n",
    "var_y=np.var(Y)\n",
    "\n",
    "sd_y=np.std(Y) # or var_x**0.5\n",
    "\n",
    "# Coefficient of Variation for both the Company\n",
    "X_CV=sd_x/mean_x\n",
    "\n",
    "Y_CV=sd_y/mean_y\n",
    "\n",
    "print (f'Coefficient of Variation for X is : {X_CV}') \n",
    "print('\\n')\n",
    "print (f'Coefficient of Variation for X is : {Y_CV}')\n",
    "\n",
    "print('\\n')\n",
    "if X_CV > Y_CV :\n",
    "    print('Y Company had more Consistence with less variation and Stability Distribution ')\n",
    "else:\n",
    "    print('X Company had more Consistence with less variation and Stability Distribution ')\n"
   ]
  },
  {
   "cell_type": "markdown",
   "id": "7bc7702b-fb48-434c-b2fe-27fffd2714e8",
   "metadata": {},
   "source": [
    "# Quantile, Percentile"
   ]
  },
  {
   "cell_type": "code",
   "execution_count": 24,
   "id": "7e861968-c065-4203-90ee-47474ddceee0",
   "metadata": {},
   "outputs": [
    {
     "name": "stdout",
     "output_type": "stream",
     "text": [
      "The score above which 65% of students scored is about 64.95\n"
     ]
    }
   ],
   "source": [
    "# the math exam scores of 20 students:\n",
    "#Find the score above which 65% of students scored.\n",
    "scores = [45, 60, 72, 58, 81, 77, 69, 88, 54, 63, \n",
    "          90, 85, 70, 52, 66, 74, 95, 80, 61, 68]\n",
    "\n",
    "#That means we want the 35th percentile of the scores.\n",
    "scores.sort()\n",
    "\n",
    "# compute 35th percentile using 'quantile'\n",
    "# As 35th percentile divides the data in 35-65%\n",
    "Student_scores = pd.Series(scores)\n",
    "scr=Student_scores.quantile(0.35)\n",
    "\n",
    "print(f'The score above which 65% of students scored is about {scr}')"
   ]
  },
  {
   "cell_type": "code",
   "execution_count": 69,
   "id": "df9b5add-31d5-4750-a901-ed16c014c00b",
   "metadata": {},
   "outputs": [
    {
     "name": "stdout",
     "output_type": "stream",
     "text": [
      "The score above which 65% of students scored is about 64.95\n"
     ]
    }
   ],
   "source": [
    "# Percentile\n",
    "print(f'The score above which 65% of students scored is about {np.percentile(scores,35)}')"
   ]
  },
  {
   "cell_type": "code",
   "execution_count": 44,
   "id": "a4d591b5-d30a-4790-a090-0d4109b25dc7",
   "metadata": {},
   "outputs": [
    {
     "data": {
      "text/plain": [
       "[45,\n",
       " 52,\n",
       " 54,\n",
       " 58,\n",
       " 60,\n",
       " 61,\n",
       " 63,\n",
       " 66,\n",
       " 68,\n",
       " 69,\n",
       " 70,\n",
       " 72,\n",
       " 74,\n",
       " 77,\n",
       " 80,\n",
       " 81,\n",
       " 85,\n",
       " 88,\n",
       " 90,\n",
       " 95]"
      ]
     },
     "execution_count": 44,
     "metadata": {},
     "output_type": "execute_result"
    }
   ],
   "source": [
    "# OR (n+1)*p where n is len of values (or) no. of scores \n",
    "scores"
   ]
  },
  {
   "cell_type": "code",
   "execution_count": 45,
   "id": "2ce70475-d67c-4754-9e2c-4cc347ac3186",
   "metadata": {},
   "outputs": [
    {
     "data": {
      "text/plain": [
       "[63, 66]"
      ]
     },
     "execution_count": 45,
     "metadata": {},
     "output_type": "execute_result"
    }
   ],
   "source": [
    "scores[6:8]"
   ]
  },
  {
   "cell_type": "code",
   "execution_count": null,
   "id": "736b8233-43a8-4509-9a2a-00a18769abd3",
   "metadata": {},
   "outputs": [],
   "source": []
  },
  {
   "cell_type": "code",
   "execution_count": 38,
   "id": "e0ab0033-eba4-455a-a7ae-99f8e3b41737",
   "metadata": {},
   "outputs": [
    {
     "data": {
      "text/plain": [
       "7.35"
      ]
     },
     "execution_count": 38,
     "metadata": {},
     "output_type": "execute_result"
    }
   ],
   "source": [
    "# (n+1)*p\n",
    ".35*(20+1)"
   ]
  },
  {
   "cell_type": "code",
   "execution_count": 46,
   "id": "18931c88-fded-4d6c-8233-ce3d8a3ecf71",
   "metadata": {},
   "outputs": [
    {
     "data": {
      "text/plain": [
       "64.05"
      ]
     },
     "execution_count": 46,
     "metadata": {},
     "output_type": "execute_result"
    }
   ],
   "source": [
    "63+(.35*(66-63))\n",
    "# both way can do "
   ]
  },
  {
   "cell_type": "code",
   "execution_count": 25,
   "id": "447afefd-ae04-45a9-bb86-e6745ce22fe9",
   "metadata": {},
   "outputs": [
    {
     "data": {
      "text/plain": [
       "284.1"
      ]
     },
     "execution_count": 25,
     "metadata": {},
     "output_type": "execute_result"
    }
   ],
   "source": [
    "# consider the series of wages\n",
    "wage = pd.Series([247, 228, 352, 298, 345, 312, 300, 285, 246, 352, 297, 304, 265, 325, 276])\n",
    "\n",
    "# compute 35th percentile using 'quantile'\n",
    "# As 35th percentile divides the data in 35-65%\n",
    "wage.quantile(0.35)"
   ]
  },
  {
   "cell_type": "code",
   "execution_count": 49,
   "id": "8f689b2e-1535-4851-b628-6ef29f64114e",
   "metadata": {},
   "outputs": [],
   "source": [
    "wage= wage.sort_values(ascending=True).reset_index(drop=True)"
   ]
  },
  {
   "cell_type": "code",
   "execution_count": 55,
   "id": "f2a25d2e-c438-4c77-9a68-b611e00faaf2",
   "metadata": {},
   "outputs": [
    {
     "data": {
      "text/plain": [
       "15"
      ]
     },
     "execution_count": 55,
     "metadata": {},
     "output_type": "execute_result"
    }
   ],
   "source": [
    "len(wage)"
   ]
  },
  {
   "cell_type": "code",
   "execution_count": 60,
   "id": "8d5e6ed7-08a2-4b1f-ae68-a0053288af36",
   "metadata": {},
   "outputs": [
    {
     "name": "stdout",
     "output_type": "stream",
     "text": [
      "4.8999999999999995\n"
     ]
    }
   ],
   "source": [
    "# 35th percentile or .35 quantile\n",
    "# (n+1)*p in some textbook and default use in numpy,pandas,sklearn (n-1)*p\n",
    "n=len(wage)\n",
    "p=.35\n",
    "index_val=(n-1)*p\n",
    "\n",
    "print(index_val)\n"
   ]
  },
  {
   "cell_type": "code",
   "execution_count": 59,
   "id": "f6316059-3a5f-4457-91cf-eb1782b754ee",
   "metadata": {},
   "outputs": [
    {
     "data": {
      "text/plain": [
       "4    276\n",
       "5    285\n",
       "dtype: int64"
      ]
     },
     "execution_count": 59,
     "metadata": {},
     "output_type": "execute_result"
    }
   ],
   "source": [
    "wage[4:6]"
   ]
  },
  {
   "cell_type": "code",
   "execution_count": 67,
   "id": "d675857a-8eb8-494f-bb92-24573ac9d58b",
   "metadata": {},
   "outputs": [
    {
     "name": "stdout",
     "output_type": "stream",
     "text": [
      "284.1\n"
     ]
    }
   ],
   "source": [
    "# 5th index value + .6 * (5th index val - 6th index val)\n",
    "\n",
    "above_35 = wage[4] + 0.9*(wage[5] - wage[4]) \n",
    "\n",
    "print(above_35)"
   ]
  },
  {
   "cell_type": "markdown",
   "id": "31203f3a-d469-47da-ba5e-dc0161769a66",
   "metadata": {},
   "source": [
    "# Real world example"
   ]
  },
  {
   "cell_type": "code",
   "execution_count": 74,
   "id": "d9f98ddd-ce7a-4ffd-9f45-f1a80c92666a",
   "metadata": {},
   "outputs": [
    {
     "name": "stdout",
     "output_type": "stream",
     "text": [
      "30th Percentile: 130.0\n",
      "That means 40% of customers spent ≤ $130.0\n"
     ]
    }
   ],
   "source": [
    "# last month’s customer spending data (in dollars)\n",
    "\n",
    "spend = pd.Series([80, 95, 120, 130, 150, 200, 250, 300, 110, 170, 90, 220, 400, 130, 140])\n",
    "\n",
    "\n",
    "threshold = spend.quantile(0.40)\n",
    "print(\"30th Percentile:\", threshold)\n",
    "\n",
    "print(f'That means 40% of customers spent ≤ ${threshold}')"
   ]
  },
  {
   "cell_type": "code",
   "execution_count": 75,
   "id": "46720f99-fb22-4177-98d9-12de8ca778ea",
   "metadata": {},
   "outputs": [
    {
     "name": "stdout",
     "output_type": "stream",
     "text": [
      "High-value customers:\n",
      " 4     150\n",
      "5     200\n",
      "6     250\n",
      "7     300\n",
      "9     170\n",
      "11    220\n",
      "12    400\n",
      "14    140\n",
      "dtype: int64\n",
      "\n",
      "Low-value customers:\n",
      " 0      80\n",
      "1      95\n",
      "2     120\n",
      "3     130\n",
      "8     110\n",
      "10     90\n",
      "13    130\n",
      "dtype: int64\n"
     ]
    }
   ],
   "source": [
    "high_value = spend[spend > threshold]\n",
    "low_value  = spend[spend <= threshold]\n",
    "\n",
    "print(\"High-value customers:\\n\", high_value)\n",
    "print(\"\\nLow-value customers:\\n\", low_value)\n"
   ]
  },
  {
   "cell_type": "markdown",
   "id": "41d563b7-b416-4bc3-b0f4-3db9401a884d",
   "metadata": {},
   "source": [
    "# Business Impact\n",
    "\n",
    "High-value customers (60%) → Target with loyalty programs, cashback, VIP offers.\n",
    "\n",
    "Low-value customers (40%) → Target with discounts & promotions to push them upward."
   ]
  },
  {
   "cell_type": "code",
   "execution_count": 76,
   "id": "c5fddc8b-9dcb-409a-9796-f16d0ce90bac",
   "metadata": {},
   "outputs": [
    {
     "name": "stdout",
     "output_type": "stream",
     "text": [
      "35th Percentile (threshold): 5.949999999999999\n"
     ]
    }
   ],
   "source": [
    "loans = pd.Series([2.5, 3.0, 4.0, 5.0, 5.5, 6.0, 7.5, 8.0, 9.0, 10.0, 12.0, 15.0, 18.0, 20.0, 25.0])\n",
    "\n",
    "# Find 35th Percentile\n",
    "\n",
    "threshold = loans.quantile(0.35)\n",
    "print(\"35th Percentile (threshold):\", threshold)\n",
    "\n"
   ]
  },
  {
   "cell_type": "code",
   "execution_count": 77,
   "id": "b36c72a0-60ad-40cc-b606-ed4c0bf29d22",
   "metadata": {},
   "outputs": [
    {
     "name": "stdout",
     "output_type": "stream",
     "text": [
      "High-value loans:\n",
      " 5      6.0\n",
      "6      7.5\n",
      "7      8.0\n",
      "8      9.0\n",
      "9     10.0\n",
      "10    12.0\n",
      "11    15.0\n",
      "12    18.0\n",
      "13    20.0\n",
      "14    25.0\n",
      "dtype: float64\n",
      "\n",
      "Low-value loans:\n",
      " 0    2.5\n",
      "1    3.0\n",
      "2    4.0\n",
      "3    5.0\n",
      "4    5.5\n",
      "dtype: float64\n"
     ]
    }
   ],
   "source": [
    "high_value_loans = loans[loans > threshold]\n",
    "low_value_loans  = loans[loans <= threshold]\n",
    "\n",
    "print(\"High-value loans:\\n\", high_value_loans)\n",
    "print(\"\\nLow-value loans:\\n\", low_value_loans)\n"
   ]
  },
  {
   "cell_type": "markdown",
   "id": "0c5c4b37-f770-46a9-8831-ea815ad46c4d",
   "metadata": {},
   "source": [
    "#  Business Impact\n",
    "\n",
    "High-value loans (65%) → higher returns but higher credit risk.\n",
    "\n",
    "    - Banks may apply stricter fraud detection & risk scoring.\n",
    "\n",
    "    - Closer monitoring for early defaults.\n",
    "\n",
    "Low-value loans (35%) → lower risk but smaller profit.\n",
    "\n",
    "    - Often used for portfolio balancing.\n",
    "\n",
    "    - May push cross-selling (credit cards, insurance) to improve profitability."
   ]
  },
  {
   "cell_type": "markdown",
   "id": "c6268db5-3c02-4422-b8a3-224e5a08878a",
   "metadata": {},
   "source": [
    "# One Sample Z test"
   ]
  },
  {
   "cell_type": "code",
   "execution_count": 78,
   "id": "e585d095-b47e-4dca-9cdb-f2fca8af335a",
   "metadata": {},
   "outputs": [
    {
     "name": "stdout",
     "output_type": "stream",
     "text": [
      "Z-statistic: 5.39107832350775\n",
      "p-value: 7.003613846229279e-08\n"
     ]
    }
   ],
   "source": [
    "''' A shoe company claims that the average foot length of adult males is 10.5 inches.\n",
    "As a data analyst, you collect a large random sample (n > 30) of customer foot lengths to check if the claim is true.'''\n",
    "\n",
    "import numpy as np\n",
    "from statsmodels.stats.weightstats import ztest\n",
    "\n",
    "# Suppose we collected foot length data (inches) from 50 customers\n",
    "sample = np.array([10.7, 10.4, 10.6, 10.8, 10.3, 10.9, 10.5, 10.6, 10.4, 10.8,\n",
    "                   10.7, 10.9, 10.6, 10.5, 10.4, 10.7, 10.8, 10.6, 10.5, 10.9,\n",
    "                   10.4, 10.5, 10.7, 10.8, 10.6, 10.9, 10.5, 10.6, 10.4, 10.8,\n",
    "                   10.7, 10.6, 10.9, 10.5, 10.4, 10.7, 10.8, 10.6, 10.5, 10.9,\n",
    "                   10.4, 10.5, 10.7, 10.8, 10.6, 10.9, 10.5, 10.6, 10.4, 10.8])\n",
    "\n",
    "# Hypothesized population mean (company claim)\n",
    "mu = 10.5\n",
    "\n",
    "# Perform One-sample Z-test\n",
    "z_stat, p_val = ztest(sample, value=mu)\n",
    "\n",
    "print(\"Z-statistic:\", z_stat)\n",
    "print(\"p-value:\", p_val)\n"
   ]
  },
  {
   "cell_type": "markdown",
   "id": "13dcecde-a274-4ddc-b067-ef2fbf1aa8e2",
   "metadata": {},
   "source": [
    "Z-statistic = 5.39\n",
    "\n",
    "This means your sample mean is 5.39 standard errors away from the claimed population mean.\n",
    "\n",
    "A value this far away is extremely unlikely if the null hypothesis (H₀) were true.\n",
    "\n",
    "p-value = 7.0 × 10⁻⁸ (0.00000007)\n",
    "\n",
    "This is much smaller than 0.05 (5% level) or even 0.01 (1% level).\n",
    "\n",
    "So you reject the null hypothesis H₀."
   ]
  },
  {
   "cell_type": "markdown",
   "id": "e298a728-e9c7-4ba8-9c51-7ad1d30e529f",
   "metadata": {},
   "source": [
    "# Conclusion\n",
    "\n",
    "There is very strong statistical evidence that your sample mean is significantly different from the hypothesized population mean.\n",
    "\n",
    "**In business/data analytics terms** → the company’s claim (e.g., “average height = 170 cm”) is **not supported** by your sample data"
   ]
  },
  {
   "cell_type": "markdown",
   "id": "7101f084-cae9-4637-911d-996d2a5a7f6b",
   "metadata": {},
   "source": [
    "# Two Sample Z test"
   ]
  },
  {
   "cell_type": "markdown",
   "id": "576e999e-3d4c-44fc-9391-2a4bbfb0a63b",
   "metadata": {},
   "source": [
    "\n",
    "An e-commerce company wants to check if average customer spending differs between Region A and Region B.\n",
    "\n",
    "Region A sample (n = 60 customers): mean = ₹5200, σ = ₹300\n",
    "\n",
    "Region B sample (n = 50 customers): mean = ₹5000, σ = ₹280"
   ]
  },
  {
   "cell_type": "code",
   "execution_count": 80,
   "id": "77b38402-5e84-407e-b907-4f757d3b7e0a",
   "metadata": {},
   "outputs": [
    {
     "name": "stdout",
     "output_type": "stream",
     "text": [
      "Z-statistic: 3.6107907233705943\n",
      "p-value: 0.000305264909820524\n"
     ]
    }
   ],
   "source": [
    "import math\n",
    "\n",
    "# Given data\n",
    "x1, sigma1, n1 = 5200, 300, 60   # Region A\n",
    "x2, sigma2, n2 = 5000, 280, 50   # Region B\n",
    "\n",
    "# Z-statistic\n",
    "z = (x1 - x2) / math.sqrt((sigma1**2 / n1) + (sigma2**2 / n2))\n",
    "\n",
    "# Two-tailed p-value\n",
    "from scipy.stats import norm\n",
    "p = 2 * (1 - norm.cdf(abs(z)))\n",
    "\n",
    "print(\"Z-statistic:\", z)\n",
    "print(\"p-value:\", p)\n"
   ]
  },
  {
   "cell_type": "markdown",
   "id": "ce60507c-5383-4ed1-b498-6bec83120b7e",
   "metadata": {},
   "source": [
    "**Interpretation**\n",
    "\n",
    "Z = 3.61 → the difference between Region A and Region B means is 3.55 standard errors away.\n",
    "\n",
    "p-value = 0.000305 < 0.05 → Reject H₀.\n",
    "\n",
    "**Conclusion**: Average spending in Region A (₹5200) is significantly higher than in Region B (₹5000)."
   ]
  },
  {
   "cell_type": "markdown",
   "id": "d18cbdf3-6f9e-4b01-b086-68d6894f130a",
   "metadata": {},
   "source": [
    "Customers in Region A spend more than those in Region B.\n",
    "\n",
    "The company could allocate more marketing budget to Region A (higher-value customers) \n",
    "or design targeted promotions in Region B to boost spending."
   ]
  },
  {
   "cell_type": "markdown",
   "id": "ef23a285-2b27-4d70-a716-4cbcaef86147",
   "metadata": {},
   "source": [
    "# Paired t-test for Solar Panel Output"
   ]
  },
  {
   "cell_type": "code",
   "execution_count": 83,
   "id": "623df63b-6ff1-4718-898d-230e8c033f2d",
   "metadata": {},
   "outputs": [
    {
     "name": "stdout",
     "output_type": "stream",
     "text": [
      "🔹 Sample Data:\n",
      "   Before_Cleaning  After_Cleaning\n",
      "0              4.8             5.3\n",
      "1              5.0             5.5\n",
      "2              4.7             5.1\n",
      "3              5.1             5.6\n",
      "4              4.9             5.4\n",
      "5              4.6             5.0\n",
      "6              5.0             5.3\n",
      "7              4.8             5.2\n",
      "8              4.7             5.1\n",
      "9              4.9             5.5\n",
      "\n",
      "🔹 Results:\n",
      "T-statistic: 16.7447\n",
      "P-value: 0.0000\n",
      "✅ Reject Null Hypothesis: Cleaning significantly improved power output.\n"
     ]
    }
   ],
   "source": [
    "import numpy as np\n",
    "import pandas as pd\n",
    "from scipy import stats\n",
    "\n",
    "# Simulated daily solar power output (kWh) for 10 panels\n",
    "# Before cleaning\n",
    "before_cleaning = np.array([4.8, 5.0, 4.7, 5.1, 4.9, 4.6, 5.0, 4.8, 4.7, 4.9])\n",
    "\n",
    "# After cleaning (expected improvement due to reduced dust)\n",
    "after_cleaning = np.array([5.3, 5.5, 5.1, 5.6, 5.4, 5.0, 5.3, 5.2, 5.1, 5.5])\n",
    "\n",
    "# Create DataFrame for clarity\n",
    "df = pd.DataFrame({\n",
    "    \"Before_Cleaning\": before_cleaning,\n",
    "    \"After_Cleaning\": after_cleaning\n",
    "})\n",
    "\n",
    "print(\"🔹 Sample Data:\")\n",
    "print(df)\n",
    "\n",
    "# Paired t-test\n",
    "t_stat, p_val = stats.ttest_rel(after_cleaning, before_cleaning)\n",
    "\n",
    "print(\"\\n🔹 Results:\")\n",
    "print(f\"T-statistic: {t_stat:.4f}\")\n",
    "print(f\"P-value: {p_val:.4f}\")\n",
    "\n",
    "# Interpretation\n",
    "alpha = 0.05\n",
    "if p_val < alpha:\n",
    "    print(\"✅ Reject Null Hypothesis: Cleaning significantly improved power output.\")\n",
    "else:\n",
    "    print(\"❌ Fail to Reject Null Hypothesis: No significant improvement found.\")\n"
   ]
  },
  {
   "cell_type": "markdown",
   "id": "87e95acf-aff3-44b1-913e-c80363750ebd",
   "metadata": {},
   "source": [
    "# One Sample T-test"
   ]
  },
  {
   "cell_type": "markdown",
   "id": "92b5002d-a2ab-45c4-a5d9-e576061857d5",
   "metadata": {},
   "source": [
    "You want to check if the average daily energy output of a solar panel batch is meeting the expected standard of 5 kWh/day (benchmark).\n",
    "\n",
    "**Null hypothesis (H₀):** The mean daily output = 5 kWh.\n",
    "\n",
    "**Alternative hypothesis (H₁):** The mean daily output ≠ 5 kWh."
   ]
  },
  {
   "cell_type": "code",
   "execution_count": 85,
   "id": "3adeb691-256a-453f-941a-cd55c5deb139",
   "metadata": {},
   "outputs": [
    {
     "name": "stdout",
     "output_type": "stream",
     "text": [
      "🔹 Results:\n",
      "Sample Mean: 5.000\n",
      "T-statistic: 0.0000\n",
      "P-value: 1.0000\n",
      "❌ Fail to Reject Null Hypothesis: Mean output is not significantly different from 5 kWh.\n"
     ]
    }
   ],
   "source": [
    "import numpy as np\n",
    "from scipy import stats\n",
    "\n",
    "# Daily output data (kWh) from 12 solar panels\n",
    "daily_output = np.array([4.9, 5.1, 4.8, 5.0, 5.2, 4.7, 5.1, 4.9, 5.3, 5.0, 4.8, 5.2])\n",
    "\n",
    "# Population mean (benchmark)\n",
    "mu = 5.0\n",
    "\n",
    "# One-sample t-test\n",
    "t_stat, p_val = stats.ttest_1samp(daily_output, mu)\n",
    "\n",
    "print(\"🔹 Results:\")\n",
    "print(f\"Sample Mean: {daily_output.mean():.3f}\")\n",
    "print(f\"T-statistic: {t_stat:.4f}\")\n",
    "print(f\"P-value: {p_val:.4f}\")\n",
    "\n",
    "# Interpretation\n",
    "alpha = 0.05\n",
    "if p_val < alpha:\n",
    "    print(\"✅ Reject Null Hypothesis: Mean output is significantly different from 5 kWh.\")\n",
    "else:\n",
    "    print(\"❌ Fail to Reject Null Hypothesis: Mean output is not significantly different from 5 kWh.\")\n"
   ]
  },
  {
   "cell_type": "markdown",
   "id": "61d9bc63-2a40-4764-b578-70074f91b767",
   "metadata": {},
   "source": [
    "**Interpretation:**\n",
    "\n",
    "In this case, the mean output (≈5.0 kWh) is very close to the benchmark.\n",
    "\n",
    "Since p > 0.05, we fail to reject H₀ → the plant is performing as expected."
   ]
  },
  {
   "cell_type": "markdown",
   "id": "3b8e1099-bd7d-46ec-bcfc-e7ac40708eea",
   "metadata": {},
   "source": [
    "# Two Sample Independent T-tests\n",
    "\n",
    "**Compare Two Types of Solar Panels**\n",
    "\n",
    "Suppose you are testing whether Panel Model A and Panel Model B have different average daily outputs (kWh).\n",
    "\n",
    "Null hypothesis (H₀): Mean output of Model A = Mean output of Model B.\n",
    "\n",
    "Alternative hypothesis (H₁): Mean output of Model A ≠ Mean output of Model B."
   ]
  },
  {
   "cell_type": "code",
   "execution_count": 87,
   "id": "8dfb751d-cb64-4306-ad92-7f3be1a097ee",
   "metadata": {},
   "outputs": [
    {
     "name": "stdout",
     "output_type": "stream",
     "text": [
      "🔹 Sample Data:\n",
      "   Model_A  Model_B\n",
      "0      5.1      4.7\n",
      "1      5.0      4.8\n",
      "2      4.9      4.9\n",
      "3      5.2      4.6\n",
      "4      5.3      4.8\n",
      "5      5.1      4.7\n",
      "6      5.0      4.9\n",
      "7      5.2      4.6\n",
      "8      4.8      4.8\n",
      "9      5.1      4.7\n",
      "\n",
      "🔹 Results:\n",
      "Mean Model A: 5.070\n",
      "Mean Model B: 4.750\n",
      "T-statistic: 5.4880\n",
      "P-value: 0.0000\n",
      "✅ Reject Null Hypothesis: Significant difference between Model A and Model B outputs.\n"
     ]
    }
   ],
   "source": [
    "import numpy as np\n",
    "from scipy import stats\n",
    "import pandas as pd\n",
    "\n",
    "# Daily power output (kWh) from two panel models\n",
    "model_A = np.array([5.1, 5.0, 4.9, 5.2, 5.3, 5.1, 5.0, 5.2, 4.8, 5.1])\n",
    "model_B = np.array([4.7, 4.8, 4.9, 4.6, 4.8, 4.7, 4.9, 4.6, 4.8, 4.7])\n",
    "\n",
    "# Create DataFrame for clarity\n",
    "df = pd.DataFrame({\"Model_A\": model_A, \"Model_B\": model_B})\n",
    "print(\"🔹 Sample Data:\")\n",
    "print(df)\n",
    "\n",
    "# Two-sample independent t-test (assume equal variances first)\n",
    "t_stat, p_val = stats.ttest_ind(model_A, model_B)\n",
    "\n",
    "print(\"\\n🔹 Results:\")\n",
    "print(f\"Mean Model A: {model_A.mean():.3f}\")\n",
    "print(f\"Mean Model B: {model_B.mean():.3f}\")\n",
    "print(f\"T-statistic: {t_stat:.4f}\")\n",
    "print(f\"P-value: {p_val:.4f}\")\n",
    "\n",
    "# Interpretation\n",
    "alpha = 0.05\n",
    "if p_val < alpha:\n",
    "    print(\"✅ Reject Null Hypothesis: Significant difference between Model A and Model B outputs.\")\n",
    "else:\n",
    "    print(\"❌ Fail to Reject Null Hypothesis: No significant difference between Model A and Model B.\")\n"
   ]
  },
  {
   "cell_type": "markdown",
   "id": "fdf95463-fc97-420d-9e95-ef5118f8461e",
   "metadata": {},
   "source": [
    "**Interpretation**\n",
    "\n",
    "Model A: ~5.07 kWh/day\n",
    "\n",
    "Model B: ~4.77 kWh/day\n",
    "\n",
    "p-value < 0.05 → significant difference in average output.\n",
    "\n",
    " Conclusion: Model A performs better than Model B."
   ]
  },
  {
   "cell_type": "code",
   "execution_count": null,
   "id": "82df179b-e746-4760-bd89-6e32a5bef47f",
   "metadata": {},
   "outputs": [],
   "source": []
  }
 ],
 "metadata": {
  "kernelspec": {
   "display_name": "Python 3 (ipykernel)",
   "language": "python",
   "name": "python3"
  },
  "language_info": {
   "codemirror_mode": {
    "name": "ipython",
    "version": 3
   },
   "file_extension": ".py",
   "mimetype": "text/x-python",
   "name": "python",
   "nbconvert_exporter": "python",
   "pygments_lexer": "ipython3",
   "version": "3.12.0"
  }
 },
 "nbformat": 4,
 "nbformat_minor": 5
}
